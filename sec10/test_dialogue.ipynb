{
 "cells": [
  {
   "cell_type": "code",
   "execution_count": 1,
   "metadata": {},
   "outputs": [
    {
     "name": "stdout",
     "output_type": "stream",
     "text": [
      "['\\t', '\\n', '、', '。', '々', 'ぁ', 'あ', 'ぃ', 'い', 'ぅ', 'う', 'ぇ', 'え', 'ぉ', 'お', 'か', 'が', 'き', 'ぎ', 'く', 'ぐ', 'け', 'げ', 'こ', 'ご', 'さ', 'ざ', 'し', 'じ', 'す', 'ず', 'せ', 'ぜ', 'そ', 'ぞ', 'た', 'だ', 'ち', 'ぢ', 'っ', 'つ', 'づ', 'て', 'で', 'と', 'ど', 'な', 'に', 'ぬ', 'ね', 'の', 'は', 'ば', 'ぱ', 'ひ', 'び', 'ぴ', 'ふ', 'ぶ', 'ぷ', 'へ', 'べ', 'ぺ', 'ほ', 'ぼ', 'ぽ', 'ま', 'み', 'む', 'め', 'も', 'ゃ', 'や', 'ゅ', 'ゆ', 'ょ', 'よ', 'ら', 'り', 'る', 'れ', 'ろ', 'ゎ', 'わ', 'ゐ', 'ゑ', 'を', 'ん', 'ァ', 'ア', 'ィ', 'イ', 'ゥ', 'ウ', 'ェ', 'エ', 'ォ', 'オ', 'カ', 'ガ', 'キ', 'ギ', 'ク', 'グ', 'ケ', 'ゲ', 'コ', 'ゴ', 'サ', 'ザ', 'シ', 'ジ', 'ス', 'ズ', 'セ', 'ゼ', 'ソ', 'ゾ', 'タ', 'ダ', 'チ', 'ヂ', 'ッ', 'ツ', 'ヅ', 'テ', 'デ', 'ト', 'ド', 'ナ', 'ニ', 'ヌ', 'ネ', 'ノ', 'ハ', 'バ', 'パ', 'ヒ', 'ビ', 'ピ', 'フ', 'ブ', 'プ', 'ヘ', 'ベ', 'ペ', 'ホ', 'ボ', 'ポ', 'マ', 'ミ', 'ム', 'メ', 'モ', 'ャ', 'ヤ', 'ュ', 'ユ', 'ョ', 'ヨ', 'ラ', 'リ', 'ル', 'レ', 'ロ', 'ヮ', 'ワ', 'ヰ', 'ヱ', 'ヲ', 'ン', 'ヴ', '・', 'ー', '？']\n"
     ]
    }
   ],
   "source": [
    "import pickle\n",
    "\n",
    "with open('kana_chars.pickle', mode='rb') as f:\n",
    "    chars_list = pickle.load(f)\n",
    "print(chars_list)"
   ]
  },
  {
   "cell_type": "code",
   "execution_count": 2,
   "metadata": {},
   "outputs": [],
   "source": [
    "import numpy as np\n",
    "\n",
    "char_indices = {}\n",
    "for i, char in enumerate(chars_list):\n",
    "    char_indices[char] = i\n",
    "indices_char = {}\n",
    "for i, char in enumerate(chars_list):\n",
    "    indices_char[i] = char\n",
    "\n",
    "n_char = len(chars_list)\n",
    "max_length_x = 128\n",
    "\n",
    "def sentence_to_vector(sentence):\n",
    "    vector = np.zeros((1, max_length_x, n_char), dtype=bool)\n",
    "    for j, char in enumerate(sentence):\n",
    "        vector[0][j][char_indices[char]] = 1\n",
    "    return vector"
   ]
  },
  {
   "cell_type": "code",
   "execution_count": null,
   "metadata": {},
   "outputs": [],
   "source": [
    "from keras.models import load_model\n",
    "\n",
    "encoder_model = load_model('encoder_model.h5')\n",
    "decoder_model = load_model('decoder_model.h5')\n",
    "\n",
    "def respond(input_data, beta=5):\n",
    "    state_value = encoder_model.predict(input_data)\n",
    "    y_decoder = np.zeros((1, 1, n_char))\n",
    "    y_decoder[0][0][char_indices['\\t']] = 1\n",
    "\n",
    "    respond_sentence = \"\"\n",
    "    while True:\n",
    "        y, h = decoder_model.predict([y_decoder, state_value])\n",
    "        p_power = y[0][0] ** beta\n",
    "        next_index = np.random.choice(len(p_power), p=p_power/np.sum(p_power))\n",
    "        next_char = indices_char[next_index]\n",
    "\n",
    "        if(next_char == '\\n' or len(respond_sentence) >= max_length_x):\n",
    "            break\n",
    "\n",
    "        respond_sentence += next_char\n",
    "        y_decoder = np.zeros((1, 1, n_char))\n",
    "        y_decoder[0][0][next_index] = 1\n",
    "\n",
    "        state_value = h\n",
    "\n",
    "    return respond_sentence"
   ]
  },
  {
   "cell_type": "code",
   "execution_count": null,
   "metadata": {},
   "outputs": [],
   "source": [
    "sentences = [\"けんじさん、こんにちは。\",\n",
    "             \"カムパネラってしってますか？\",\n",
    "             \"ああ、おなかすいた。\",\n",
    "             \"きょうはいいてんきですね。\",\n",
    "             \"すきなたべものは、なんですか。\",\n",
    "             \"きょうは、さんぽにいきました。\",\n",
    "             \"パソコンかスマホは、つかったことありますか？\"]\n",
    "\n",
    "for sentence in sentences:\n",
    "    vector = sentence_to_vector(sentence)\n",
    "    print(\"Input:\", sentence)\n",
    "    print(\"Response\", respond(vector))\n",
    "    print()"
   ]
  },
  {
   "cell_type": "code",
   "execution_count": 4,
   "metadata": {},
   "outputs": [
    {
     "name": "stdout",
     "output_type": "stream",
     "text": [
      "賢治A: こんにちは\n",
      "\n"
     ]
    },
    {
     "ename": "NameError",
     "evalue": "name 'respond' is not defined",
     "output_type": "error",
     "traceback": [
      "\u001b[0;31m---------------------------------------------------------------------------\u001b[0m",
      "\u001b[0;31mNameError\u001b[0m                                 Traceback (most recent call last)",
      "Cell \u001b[0;32mIn[4], line 8\u001b[0m\n\u001b[1;32m      5\u001b[0m \u001b[38;5;28mprint\u001b[39m()\n\u001b[1;32m      6\u001b[0m vector_a \u001b[38;5;241m=\u001b[39m sentence_to_vector(response_a)\n\u001b[0;32m----> 8\u001b[0m response_b \u001b[38;5;241m=\u001b[39m \u001b[43mrespond\u001b[49m(vector_a)\n\u001b[1;32m      9\u001b[0m \u001b[38;5;28mprint\u001b[39m(\u001b[38;5;124m\"\u001b[39m\u001b[38;5;124m賢治B:\u001b[39m\u001b[38;5;124m\"\u001b[39m, response_b)\n\u001b[1;32m     10\u001b[0m \u001b[38;5;28mprint\u001b[39m()\n",
      "\u001b[0;31mNameError\u001b[0m: name 'respond' is not defined"
     ]
    }
   ],
   "source": [
    "response_a = \"こんにちは\"\n",
    "response_b = \"\"\n",
    "for i in range(100):\n",
    "    print(\"賢治A:\", response_a)\n",
    "    print()\n",
    "    vector_a = sentence_to_vector(response_a)\n",
    "\n",
    "    response_b = respond(vector_a)\n",
    "    print(\"賢治B:\", response_b)\n",
    "    print()\n",
    "    vector_b = sentence_to_vector(response_b)\n",
    "\n",
    "    response_a = respond(vector_b)"
   ]
  },
  {
   "cell_type": "code",
   "execution_count": null,
   "metadata": {},
   "outputs": [],
   "source": []
  }
 ],
 "metadata": {
  "kernelspec": {
   "display_name": "Python3_10_14",
   "language": "python",
   "name": "python3"
  },
  "language_info": {
   "codemirror_mode": {
    "name": "ipython",
    "version": 3
   },
   "file_extension": ".py",
   "mimetype": "text/x-python",
   "name": "python",
   "nbconvert_exporter": "python",
   "pygments_lexer": "ipython3",
   "version": "3.10.13"
  }
 },
 "nbformat": 4,
 "nbformat_minor": 2
}
