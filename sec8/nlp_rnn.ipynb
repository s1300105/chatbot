{
 "cells": [
  {
   "cell_type": "code",
   "execution_count": 1,
   "metadata": {},
   "outputs": [
    {
     "name": "stdout",
     "output_type": "stream",
     "text": [
      "文字数 110323\n"
     ]
    }
   ],
   "source": [
    "import re\n",
    "\n",
    "with open(\"kaijin_nijumenso.txt\", mode=\"r\", encoding=\"utf-8\") as f:\n",
    "    text_original = f.read()\n",
    "\n",
    "text = re.sub(\"《[^》]+》\", \"\", text_original)\n",
    "text = re.sub(\"［[^］]+］\", \"\", text)\n",
    "text = re.sub(\"[｜ 　]\", \"\", text)\n",
    "print(\"文字数\", len(text))"
   ]
  },
  {
   "cell_type": "code",
   "execution_count": 2,
   "metadata": {},
   "outputs": [],
   "source": [
    "n_rnn = 10\n",
    "batch_size = 128\n",
    "epochs = 60\n",
    "n_mid = 128"
   ]
  },
  {
   "cell_type": "code",
   "execution_count": 7,
   "metadata": {},
   "outputs": [
    {
     "name": "stdout",
     "output_type": "stream",
     "text": [
      "文字数(重複なし)  1249\n",
      "['\\n', '—', '…', '、', '。', '々', '〇', '「', '」', '『']\n",
      "xの形状 (110313, 10, 1249)\n",
      "tの形状 (110313, 1249)\n"
     ]
    }
   ],
   "source": [
    "import numpy as np\n",
    "\n",
    "chars = sorted(list(set(text)))\n",
    "print(\"文字数(重複なし) \", len(chars))\n",
    "print(chars[:10])\n",
    "char_indices = {}\n",
    "for i, char in enumerate(chars):\n",
    "    char_indices[char] = i\n",
    "indices_char = {}\n",
    "for i, char in enumerate(chars):\n",
    "    indices_char[i] = char\n",
    "\n",
    "time_chars = []\n",
    "next_chars = []\n",
    "for i in range(0, len(text) - n_rnn):\n",
    "    time_chars.append(text[i: i+n_rnn])\n",
    "    next_chars.append(text[i + n_rnn])\n",
    "\n",
    "x = np.zeros((len(time_chars), n_rnn, len(chars)), dtype=bool)\n",
    "t = np.zeros((len(time_chars), len(chars)), dtype=bool)\n",
    "for i, t_cs in enumerate(time_chars):\n",
    "    t[i, char_indices[next_chars[i]]] = 1\n",
    "    for j, char in enumerate(t_cs):\n",
    "        x[i, j, char_indices[char]] = 1\n",
    "\n",
    "print(\"xの形状\", x.shape)\n",
    "print(\"tの形状\", t.shape)\n"
   ]
  },
  {
   "cell_type": "code",
   "execution_count": 8,
   "metadata": {},
   "outputs": [
    {
     "name": "stdout",
     "output_type": "stream",
     "text": [
      "Model: \"sequential\"\n",
      "_________________________________________________________________\n",
      " Layer (type)                Output Shape              Param #   \n",
      "=================================================================\n",
      " simple_rnn (SimpleRNN)      (None, 128)               176384    \n",
      "                                                                 \n",
      " dense (Dense)               (None, 1249)              161121    \n",
      "                                                                 \n",
      "=================================================================\n",
      "Total params: 337,505\n",
      "Trainable params: 337,505\n",
      "Non-trainable params: 0\n",
      "_________________________________________________________________\n",
      "None\n"
     ]
    }
   ],
   "source": [
    "from keras.models import Sequential\n",
    "from keras.layers import Dense, SimpleRNN\n",
    "\n",
    "model = Sequential()\n",
    "model.add(SimpleRNN(n_mid, input_shape=(n_rnn, len(chars))))\n",
    "model.add(Dense(len(chars), activation=\"softmax\"))\n",
    "model.compile(loss='categorical_crossentropy', optimizer=\"adam\")\n",
    "print(model.summary())"
   ]
  },
  {
   "cell_type": "code",
   "execution_count": 9,
   "metadata": {},
   "outputs": [],
   "source": [
    "from keras.callbacks import LambdaCallback\n",
    "\n",
    "def on_epoch_end(epoch, logs):\n",
    "    print(\"エポック: \", epoch)\n",
    "\n",
    "    beta = 5\n",
    "    prev_text = text[0:n_rnn]\n",
    "    created_text = prev_text\n",
    "\n",
    "    print(\"シード: \", created_text)\n",
    "\n",
    "    for i in range(400):\n",
    "        x_pred = np.zeros((1, n_rnn, len(chars)))\n",
    "        for j, char in enumerate(prev_text):\n",
    "            x_pred[0, j, char_indices[char]] = 1\n",
    "\n",
    "        y = model.predict(x_pred)\n",
    "        p_power = y[0] ** beta\n",
    "        next_index = np.random.choice(len(p_power), p=p_power/np.sum(p_power))\n",
    "        next_char = indices_char[next_index]\n",
    "\n",
    "        created_text += next_char\n",
    "        prev_text = prev_text[1:] + next_char\n",
    "    \n",
    "    print(created_text)\n",
    "    print()\n",
    "\n",
    "epock_end_callback=LambdaCallback(on_epoch_end=on_epoch_end)\n",
    "    "
   ]
  },
  {
   "cell_type": "code",
   "execution_count": null,
   "metadata": {},
   "outputs": [],
   "source": [
    "history = model.fit(x, t,\n",
    "                    batch_size=batch_size,\n",
    "                    epochs=epochs,\n",
    "                    callbacks=[epock_end_callback])"
   ]
  },
  {
   "cell_type": "code",
   "execution_count": null,
   "metadata": {},
   "outputs": [],
   "source": []
  }
 ],
 "metadata": {
  "kernelspec": {
   "display_name": "Python3_10_14",
   "language": "python",
   "name": "python3"
  },
  "language_info": {
   "codemirror_mode": {
    "name": "ipython",
    "version": 3
   },
   "file_extension": ".py",
   "mimetype": "text/x-python",
   "name": "python",
   "nbconvert_exporter": "python",
   "pygments_lexer": "ipython3",
   "version": "3.10.13"
  }
 },
 "nbformat": 4,
 "nbformat_minor": 2
}
