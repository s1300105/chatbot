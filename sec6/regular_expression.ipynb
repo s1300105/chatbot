{
 "cells": [
  {
   "cell_type": "code",
   "execution_count": 1,
   "metadata": {},
   "outputs": [
    {
     "name": "stdout",
     "output_type": "stream",
     "text": [
      "私はシャム猫が好きです。\n"
     ]
    }
   ],
   "source": [
    "import re\n",
    "s = \"私は柴犬が好きです。\"\n",
    "s = re.sub(\"柴犬\", \"シャム猫\", s)\n",
    "print(s)"
   ]
  },
  {
   "cell_type": "code",
   "execution_count": 2,
   "metadata": {},
   "outputs": [
    {
     "name": "stdout",
     "output_type": "stream",
     "text": [
      "私は黒馬と白馬が好きです。\n"
     ]
    }
   ],
   "source": [
    "s = \"私は黒犬と白猫が好きです。\"\n",
    "s = re.sub(\"[犬猫]\", \"馬\", s)\n",
    "print(s)"
   ]
  },
  {
   "cell_type": "code",
   "execution_count": 3,
   "metadata": {},
   "outputs": [
    {
     "name": "stdout",
     "output_type": "stream",
     "text": [
      "馬馬馬犬馬馬猫馬馬馬馬馬馬\n"
     ]
    }
   ],
   "source": [
    "s = \"私は黒犬と白猫が好きです。\"\n",
    "s = re.sub(\"[^犬猫]\", \"馬\", s)\n",
    "print(s)"
   ]
  },
  {
   "cell_type": "code",
   "execution_count": 4,
   "metadata": {},
   "outputs": [
    {
     "name": "stdout",
     "output_type": "stream",
     "text": [
      "私は犬が好きです。\n"
     ]
    }
   ],
   "source": [
    "s = \"私は犬犬犬犬犬犬犬が好きです。\"\n",
    "s = re.sub(\"犬+\", \"犬\", s)\n",
    "print(s)"
   ]
  },
  {
   "cell_type": "code",
   "execution_count": 5,
   "metadata": {},
   "outputs": [
    {
     "name": "stdout",
     "output_type": "stream",
     "text": [
      "私は柴犬とシャム猫が大好きです。\n"
     ]
    }
   ],
   "source": [
    "import re\n",
    "\n",
    "s = \"私は柴犬【しばいぬ】とシャム猫【しゃむねこ】が大好きです。\"\n",
    "\n",
    "s = re.sub(\"【[^】]+】\", \"\", s)  # 【と】の間に】以外の文字が複数ある箇所を、空の文字列に置き換える\n",
    "print(s)"
   ]
  },
  {
   "cell_type": "code",
   "execution_count": 6,
   "metadata": {},
   "outputs": [
    {
     "name": "stdout",
     "output_type": "stream",
     "text": [
      "白馬に乗って、草原を駆けるのが夢です。\n"
     ]
    }
   ],
   "source": [
    "import re\n",
    "\n",
    "s = \"白馬【はくば】に乗って、草原【そうげん】を駆けるのが夢です。\"\n",
    "s = re.sub(\"【[^】]+】\", \"\", s)\n",
    "print(s)\n"
   ]
  }
 ],
 "metadata": {
  "kernelspec": {
   "display_name": "Python3_10_14",
   "language": "python",
   "name": "python3"
  },
  "language_info": {
   "codemirror_mode": {
    "name": "ipython",
    "version": 3
   },
   "file_extension": ".py",
   "mimetype": "text/x-python",
   "name": "python",
   "nbconvert_exporter": "python",
   "pygments_lexer": "ipython3",
   "version": "3.10.13"
  }
 },
 "nbformat": 4,
 "nbformat_minor": 2
}
