{
 "cells": [
  {
   "cell_type": "code",
   "execution_count": 1,
   "metadata": {},
   "outputs": [],
   "source": [
    "import pickle\n",
    "from gensim.models import word2vec\n",
    "\n",
    "with open('wagahai_words.pickle', mode = 'rb') as f:\n",
    "    wagahai_words = pickle.load(f)\n",
    "\n",
    "\n",
    "\n",
    "model = word2vec.Word2Vec(wagahai_words,vector_size=100, min_count=5, window=5, epochs=20, sg=0)"
   ]
  },
  {
   "cell_type": "code",
   "execution_count": 2,
   "metadata": {},
   "outputs": [
    {
     "name": "stdout",
     "output_type": "stream",
     "text": [
      "[('教師', 0.6708720922470093), ('人間', 0.6531626582145691), ('恋', 0.6370497941970825), ('逆上', 0.6274529695510864), ('当人', 0.6170200109481812), ('世間', 0.6125367283821106), ('事実', 0.5998608469963074), ('以上', 0.581588864326477), ('到底', 0.577071487903595), ('君子', 0.5760469436645508)]\n"
     ]
    }
   ],
   "source": [
    "print(model.wv.most_similar(\"猫\"))"
   ]
  },
  {
   "cell_type": "code",
   "execution_count": 3,
   "metadata": {},
   "outputs": [
    {
     "name": "stdout",
     "output_type": "stream",
     "text": [
      "0.6531626\n"
     ]
    }
   ],
   "source": [
    "import numpy as np\n",
    "\n",
    "a = model.wv.__getitem__(\"猫\")\n",
    "b = model.wv.__getitem__(\"人間\")\n",
    "cos_sim = np.dot(a, b)/np.linalg.norm(a)/np.linalg.norm(b)\n",
    "print(cos_sim)"
   ]
  },
  {
   "cell_type": "code",
   "execution_count": 4,
   "metadata": {},
   "outputs": [
    {
     "name": "stdout",
     "output_type": "stream",
     "text": [
      "[('あすこ', 0.6695300340652466), ('変り', 0.6643913984298706), ('娘', 0.6600215435028076), ('浜田', 0.6508826613426208), ('あいつ', 0.6499024033546448), ('名', 0.6456382870674133), ('金田', 0.6450743079185486), ('友人', 0.6418803334236145), ('近頃', 0.6358645558357239), ('結婚', 0.6325965523719788)]\n"
     ]
    }
   ],
   "source": [
    "print(model.wv.most_similar('名前'))"
   ]
  },
  {
   "cell_type": "code",
   "execution_count": 5,
   "metadata": {},
   "outputs": [
    {
     "name": "stdout",
     "output_type": "stream",
     "text": [
      "0.66953003\n"
     ]
    }
   ],
   "source": [
    "a = model.wv.__getitem__(\"名前\")\n",
    "b = model.wv.__getitem__(\"あすこ\")\n",
    "cos_sim = np.dot(a,b)/np.linalg.norm(a)/np.linalg.norm(b)\n",
    "print(cos_sim)"
   ]
  }
 ],
 "metadata": {
  "kernelspec": {
   "display_name": "Python3_10_14",
   "language": "python",
   "name": "python3"
  },
  "language_info": {
   "codemirror_mode": {
    "name": "ipython",
    "version": 3
   },
   "file_extension": ".py",
   "mimetype": "text/x-python",
   "name": "python",
   "nbconvert_exporter": "python",
   "pygments_lexer": "ipython3",
   "version": "3.10.13"
  }
 },
 "nbformat": 4,
 "nbformat_minor": 2
}
